{
 "cells": [
  {
   "cell_type": "code",
   "execution_count": 1,
   "metadata": {},
   "outputs": [],
   "source": []
  },
  {
   "cell_type": "code",
   "execution_count": 11,
   "metadata": {},
   "outputs": [],
   "source": [
    "r"
   ]
  },
  {
   "cell_type": "code",
   "execution_count": 31,
   "metadata": {},
   "outputs": [],
   "source": [
    "from numpy import random\n",
    "import numpy as np"
   ]
  },
  {
   "cell_type": "code",
   "execution_count": null,
   "metadata": {},
   "outputs": [],
   "source": []
  },
  {
   "cell_type": "code",
   "execution_count": 32,
   "metadata": {},
   "outputs": [
    {
     "name": "stdout",
     "output_type": "stream",
     "text": [
      "0 10\n",
      "1 76\n"
     ]
    }
   ],
   "source": [
    "iterr = np.random.randint(100, size=(2))\n",
    "\n",
    "# Print each number with its index\n",
    "for index, value in enumerate(iterr):\n",
    "    print(index, value)"
   ]
  },
  {
   "cell_type": "code",
   "execution_count": 14,
   "metadata": {},
   "outputs": [
    {
     "name": "stdout",
     "output_type": "stream",
     "text": [
      "hello\n"
     ]
    }
   ],
   "source": []
  },
  {
   "cell_type": "code",
   "execution_count": 15,
   "metadata": {},
   "outputs": [],
   "source": []
  },
  {
   "cell_type": "code",
   "execution_count": null,
   "metadata": {},
   "outputs": [],
   "source": []
  },
  {
   "cell_type": "code",
   "execution_count": null,
   "metadata": {},
   "outputs": [],
   "source": [
    "root = tk.Tk()\n",
    "root.title(\"Video Stream\")\n",
    "\n",
    "# Set a fixed size for the window\n",
    "root.geometry(f\"{WINDOW_WIDTH}x{WINDOW_HEIGHT}\")\n",
    "\n",
    "# Create a button to load a video\n",
    "load_button = tk.Button(root, text=\"Load Video\", command=load_video)\n",
    "load_button.pack(side=tk.LEFT, padx=10, pady=10)\n",
    "\n",
    "# Create a button to stop the video\n",
    "stop_button = tk.Button(root, text=\"Stop Video\", command=stop_video)\n",
    "stop_button.pack(side=tk.LEFT, padx=10, pady=10)\n",
    "\n",
    "# Create a label to display the video stream\n",
    "label = tk.Label(root)\n",
    "label.pack(side=tk.RIGHT, padx=10, pady=10)"
   ]
  },
  {
   "cell_type": "code",
   "execution_count": null,
   "metadata": {},
   "outputs": [],
   "source": []
  },
  {
   "cell_type": "code",
   "execution_count": null,
   "metadata": {},
   "outputs": [],
   "source": []
  },
  {
   "cell_type": "code",
   "execution_count": 2,
   "metadata": {},
   "outputs": [
    {
     "name": "stdout",
     "output_type": "stream",
     "text": [
      "Polygon Counter Initiated.\n"
     ]
    },
    {
     "ename": "",
     "evalue": "",
     "output_type": "error",
     "traceback": [
      "\u001b[1;31mThe Kernel crashed while executing code in the current cell or a previous cell. \n",
      "\u001b[1;31mPlease review the code in the cell(s) to identify a possible cause of the failure. \n",
      "\u001b[1;31mClick <a href='https://aka.ms/vscodeJupyterKernelCrash'>here</a> for more info. \n",
      "\u001b[1;31mView Jupyter <a href='command:jupyter.viewOutput'>log</a> for further details."
     ]
    }
   ],
   "source": [
    "\n",
    "# load model\n",
    "model = YOLO(\"../data/models/best.pt\")\n",
    "region_points = [(400, 250), (450, 320), (1250, 280), (1000, 220)]\n",
    "# Init Object Counter\n",
    "counter = solutions.ObjectCounter(\n",
    "    view_img=False,\n",
    "    reg_pts=region_points,\n",
    "    classes_names=model.names,\n",
    "    draw_tracks=True,\n",
    "    line_thickness=2,\n",
    ")\n",
    "\n",
    "# Constants for window and frame size\n",
    "#(1920, 1080, 25)\n",
    "WINDOW_WIDTH = 840\n",
    "WINDOW_HEIGHT = 600\n",
    "FRAME_WIDTH = 900\n",
    "FRAME_HEIGHT = 480\n",
    "\n",
    "# Flag to control the video capture\n",
    "running = False\n",
    "\n",
    "def load_video():\n",
    "    global cap, running\n",
    "    video_path = filedialog.askopenfilename(filetypes=[(\"Video files\", \"*.mp4;*.avi;*.mov;*.mkv\")])\n",
    "    if video_path:\n",
    "        cap = cv2.VideoCapture(video_path)\n",
    "        running = True\n",
    "        update_frame()\n",
    "\n",
    "def stop_video():\n",
    "    global running\n",
    "    running = False\n",
    "    if 'cap' in globals():\n",
    "        cap.release()\n",
    "    label.config(image='')\n",
    "\n",
    "def update_frame():\n",
    "    if running:\n",
    "        ret, frame = cap.read()\n",
    "\n",
    "        ## MODEL\n",
    "        tracks = model.track(frame, persist=True, show=False)\n",
    "        frame = counter.start_counting(frame, tracks)\n",
    "\n",
    "\n",
    "        if ret:\n",
    "            # Resize the frame to fit the specified dimensions\n",
    "            frame = cv2.resize(frame, (FRAME_WIDTH, FRAME_HEIGHT))\n",
    "            frame = cv2.cvtColor(frame, cv2.COLOR_BGR2RGB)\n",
    "            img = Image.fromarray(frame)\n",
    "            imgtk = ImageTk.PhotoImage(image=img)\n",
    "            label.imgtk = imgtk\n",
    "            label.configure(image=imgtk)\n",
    "        label.after(10, update_frame)\n",
    "\n",
    "def create_main_window():\n",
    "    global label\n",
    "    # Create a window\n",
    "    root = tk.Tk()\n",
    "    root.title(\"Video Stream\")\n",
    "\n",
    "    # Set a fixed size for the window\n",
    "    root.geometry(f\"{WINDOW_WIDTH}x{WINDOW_HEIGHT}\")\n",
    "\n",
    "    # Create a button to load a video\n",
    "    load_button = tk.Button(root, text=\"Load Video\", command=load_video)\n",
    "    load_button.pack(side=tk.LEFT, padx=10, pady=10)\n",
    "\n",
    "    # Create a button to stop the video\n",
    "    stop_button = tk.Button(root, text=\"Stop Video\", command=stop_video)\n",
    "    stop_button.pack(side=tk.LEFT, padx=10, pady=10)\n",
    "\n",
    "    # Create a label to display the video stream\n",
    "    label = tk.Label(root)\n",
    "    label.pack(side=tk.RIGHT, padx=10, pady=10)\n",
    "\n",
    "    return root\n",
    "\n"
   ]
  },
  {
   "cell_type": "code",
   "execution_count": null,
   "metadata": {},
   "outputs": [],
   "source": []
  }
 ],
 "metadata": {
  "kernelspec": {
   "display_name": ".venv",
   "language": "python",
   "name": "python3"
  },
  "language_info": {
   "codemirror_mode": {
    "name": "ipython",
    "version": 3
   },
   "file_extension": ".py",
   "mimetype": "text/x-python",
   "name": "python",
   "nbconvert_exporter": "python",
   "pygments_lexer": "ipython3",
   "version": "3.10.14"
  }
 },
 "nbformat": 4,
 "nbformat_minor": 2
}
